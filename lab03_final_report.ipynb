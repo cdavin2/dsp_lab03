{
 "cells": [
  {
   "cell_type": "markdown",
   "metadata": {},
   "source": [
    "<h1><center>\n",
    "    ECE 438: Digital Signal Processing with Applications<br/>\n",
    "    Lab 3: Frequency Analysis<br/>\n",
    "    <small>Date:</small><br/>\n",
    "    <small>Section:</small><br>\n",
    "</center></h1>"
   ]
  },
  {
   "cell_type": "markdown",
   "metadata": {},
   "source": [
    "|Name |Signature |Time spent outside lab|\n",
    "|:---:|:---:|:---:|\n",
    "|Student Name #1 [---%]| | |\n",
    "|Student Name #2 [---%]| | |"
   ]
  },
  {
   "cell_type": "markdown",
   "metadata": {},
   "source": [
    "||Below expectations| Lacks in some respect|Meets all expectations|\n",
    "|:---:|:---:|:---:|:---:|\n",
    "|**Completeness of the report**||||\n",
    "|**Organization of the report**||||\n",
    "|**Quality of figures**: *Correctly labeled with title, x-axis, y-axis, and name(s)*||||\n",
    "|**Ability to compute Fourier series expansion and synthesize periodic signals using the expansion in Simulink (26 pts)**: *Derivation and sketch, plots of synthesized signals, questions*||||\n",
    "|**Understanding of modulator and CT system analysis (26 pts)**: *Output plots, questions*||||\n",
    "|**Implementation of DTFT (21 pts)**: *Python function, DTFT’s magnitude and phase plots*||||\n",
    "|**DT system analysis (27 pts)**: *Exercises in 5.2, completed block diagram, table of measurements, impulse and frequency response*||||"
   ]
  },
  {
   "cell_type": "code",
   "execution_count": 1,
   "metadata": {},
   "outputs": [],
   "source": [
    "import numpy as np\n",
    "import matplotlib.pyplot as plt"
   ]
  },
  {
   "cell_type": "code",
   "execution_count": 2,
   "metadata": {},
   "outputs": [],
   "source": [
    "# make sure the plot is displayed in this notebook\n",
    "%matplotlib inline\n",
    "# specify the size of the plot\n",
    "plt.rcParams['figure.figsize'] = (16, 6)\n",
    "\n",
    "# for auto-reloading extenrnal modules\n",
    "%load_ext autoreload\n",
    "%autoreload 2"
   ]
  },
  {
   "cell_type": "markdown",
   "metadata": {},
   "source": [
    "<h3 style=\"color:red;\"><left>Exercise 2.1</left></h3>"
   ]
  },
  {
   "cell_type": "markdown",
   "metadata": {},
   "source": [
    "**1. For each of these two signals, do the following on a blank sheet of paper (or type the equations in the Markdown cell if you are familiar with LaTex):**\n",
    "* **Compute the Fourier series expansion in the form**\n",
    "\\begin{equation}\n",
    "    s(t)=a_0+\\sum_{k=1}^\\infty A_k\\sin(2\\pi kf_0t+\\theta_k)\n",
    "\\end{equation}\n",
    "where $f_0=\\frac{1}{T_0}$.\n",
    "\n",
    "    **Hint :**You may want to use one of the following references:\n",
    "\n",
    "    Sec. 4.1 of “Digital Signal Processing”, by Proakis and Manolakis, 1996;\n",
    "\n",
    "    Sec. 4.2 of “Signals and Systems”, by A. Oppenheim and A. Willsky, 1983;\n",
    "\n",
    "    Sec. 3.3 of “Signals and Systems”, A. Oppenheim and A. Willsky, 1997.\n",
    "\n",
    "    Note that in the expression above, the function in the summation is $\\sin(2\\pi kf_0 t + \\theta k )$, rather than a complex sinusoid. The formulas in the above references must be modified to accommodate this. You can compute the cos/sin version of the Fourier series, then convert the coefficients."
   ]
  },
  {
   "cell_type": "markdown",
   "metadata": {},
   "source": [
    "write your answer here"
   ]
  },
  {
   "cell_type": "markdown",
   "metadata": {},
   "source": [
    "**2. Write code to approximate the two signals using the Fourier series expansion above. Use 200 (instead of infinite number of) Sine waves. Then, plot these two signals.**"
   ]
  },
  {
   "cell_type": "code",
   "execution_count": 3,
   "metadata": {},
   "outputs": [],
   "source": [
    "# write your code here\n"
   ]
  },
  {
   "cell_type": "markdown",
   "metadata": {},
   "source": [
    "<h3 style=\"color:red;\"><left>Exercise 4.1</left></h3>"
   ]
  },
  {
   "cell_type": "markdown",
   "metadata": {},
   "source": [
    "**1. Hand in plots of the Spectrum Analyzer output for each of the three synthesized waveforms.** "
   ]
  },
  {
   "cell_type": "markdown",
   "metadata": {},
   "source": [
    "insert your plots here"
   ]
  },
  {
   "cell_type": "markdown",
   "metadata": {},
   "source": [
    "**2. For each case in Q1, comment on how the synthesized waveform differs from the desired signal,and on the structure of the spectral density.**"
   ]
  },
  {
   "cell_type": "markdown",
   "metadata": {},
   "source": [
    "insert your answer here"
   ]
  },
  {
   "cell_type": "markdown",
   "metadata": {},
   "source": [
    "<h3 style=\"color:red;\"><left>Exercise 4.2</left></h3>"
   ]
  },
  {
   "cell_type": "markdown",
   "metadata": {},
   "source": [
    "**1. Hand in plots of the output of the *Spectrum Analyzer* for each signal.**"
   ]
  },
  {
   "cell_type": "markdown",
   "metadata": {},
   "source": [
    "insert your plots here"
   ]
  },
  {
   "cell_type": "markdown",
   "metadata": {},
   "source": [
    "**2. What effect does changing the modulating frequency have on the spectral density?**"
   ]
  },
  {
   "cell_type": "markdown",
   "metadata": {},
   "source": [
    "write your answer here"
   ]
  },
  {
   "cell_type": "markdown",
   "metadata": {},
   "source": [
    "**3. Why does the spectrum have a comb structure and what is the spectral distance between impulses? Why?**"
   ]
  },
  {
   "cell_type": "markdown",
   "metadata": {},
   "source": [
    "write your answer here"
   ]
  },
  {
   "cell_type": "markdown",
   "metadata": {},
   "source": [
    "**4. What would happen to the spectral density if the period of the triangle pulse were to\n",
    "increase toward infinity? (in the limit)**  "
   ]
  },
  {
   "cell_type": "markdown",
   "metadata": {},
   "source": [
    "write your answer here"
   ]
  },
  {
   "cell_type": "markdown",
   "metadata": {},
   "source": [
    "<h3 style=\"color:red;\"><left>Exercise 4.3</left></h3>"
   ]
  },
  {
   "cell_type": "markdown",
   "metadata": {},
   "source": [
    "**1. Hand in the printout of the output of the Network Analyzer (magnitude and phase of the\n",
    "frequency response, and the impulse response).**"
   ]
  },
  {
   "cell_type": "markdown",
   "metadata": {},
   "source": [
    "insert your printout here"
   ]
  },
  {
   "cell_type": "markdown",
   "metadata": {},
   "source": [
    "**2. Hand in the plot of the impulse response obtained using a unit step.**"
   ]
  },
  {
   "cell_type": "markdown",
   "metadata": {},
   "source": [
    "insert your plot here"
   ]
  },
  {
   "cell_type": "markdown",
   "metadata": {},
   "source": [
    "**3. What are the advantages and disadvantages of each method?**"
   ]
  },
  {
   "cell_type": "markdown",
   "metadata": {},
   "source": [
    "write your answer here"
   ]
  },
  {
   "cell_type": "markdown",
   "metadata": {},
   "source": [
    "<h3 style=\"color:red;\"><left>Exercise 5.1</left></h3>"
   ]
  },
  {
   "cell_type": "markdown",
   "metadata": {},
   "source": [
    "**1. Complete the follwing function that computes the DTFT of a discrete-time signal.** \n",
    "```python\n",
    "def DTFT(x,n0,w):\n",
    "    \"\"\"\n",
    "    This function computes the DTFT of a discrete-time signal.\n",
    "    \n",
    "    Parameters\n",
    "    ---\n",
    "    x: the discrete-time signal\n",
    "    n0: time index corresponding to the 1st element of the x vector\n",
    "    w: frequencies\n",
    "    \n",
    "    Returns\n",
    "    ---\n",
    "    X: the computed DTFT\n",
    "    \"\"\"\n",
    "    pass\n",
    "```\n",
    "**Note that if ```x``` is a vector of length $N$, then its DTFT is computed by**\n",
    "\n",
    "\\begin{equation}\n",
    "    X(\\omega)=\\sum_{n=0}^{N-1}x[n]e^{-jw(n+n0)}\n",
    "\\end{equation}\n",
    "\n",
    "**where $w$ is a vector that contains the frequencies from $-\\pi$ to $\\pi$.**\n",
    "\n",
    "**Hint:** In Python, ```1j``` is defined as $\\sqrt{-1}$. Use `np.exp(x)` to calculate $e^x$."
   ]
  },
  {
   "cell_type": "code",
   "execution_count": 4,
   "metadata": {},
   "outputs": [],
   "source": [
    "# write your code here\n"
   ]
  },
  {
   "cell_type": "markdown",
   "metadata": {},
   "source": [
    "**2. For the following signals** \n",
    "\n",
    "* $x[n]=\\delta[n]$\n",
    "* $x[n]=\\delta[n-5]$\n",
    "* $x[n]=(0.5)^nu[n]$\n",
    "\n",
    "**use your DTFT function to compute $X(\\omega)$, and plots its magnitude and phase.**\n",
    "\n",
    "**Hint**: Use `np.power(a,b)` to calculate $a^b$. Use ```np.abs()``` and ```np.angle()``` to compute the magnitude and phase."
   ]
  },
  {
   "cell_type": "code",
   "execution_count": 5,
   "metadata": {
    "scrolled": true
   },
   "outputs": [],
   "source": [
    "# write your code here\n"
   ]
  },
  {
   "cell_type": "markdown",
   "metadata": {},
   "source": [
    "<h3 style=\"color:red;\"><left>Exercise 5.2: Magnitude and Phase of the Frequency Response of a Discrete-Time Systems</left></h3>"
   ]
  },
  {
   "cell_type": "markdown",
   "metadata": {},
   "source": [
    "Consider the discrete-time system described by the following difference equation:\n",
    "\n",
    "\\begin{equation}y[n]=0.9y[n-1]+0.3x[n]+0.24x[n-1]\\end{equation}\n",
    "\n",
    "Assume that the system is **causal**."
   ]
  },
  {
   "cell_type": "markdown",
   "metadata": {},
   "source": [
    "**1. Draw a system diagram.**"
   ]
  },
  {
   "cell_type": "markdown",
   "metadata": {},
   "source": [
    "insert your diagram here"
   ]
  },
  {
   "cell_type": "markdown",
   "metadata": {},
   "source": [
    "**2. Obtain the impulse response of the system by replacing $x[n]$ with $\\delta[n]$ in the above equation. (Use causality to set up the initial conditions.)**"
   ]
  },
  {
   "cell_type": "markdown",
   "metadata": {},
   "source": [
    "write your answer here"
   ]
  },
  {
   "cell_type": "markdown",
   "metadata": {},
   "source": [
    "**3. Use your answer in Q2 to obtain the frequency response of the system.**"
   ]
  },
  {
   "cell_type": "markdown",
   "metadata": {},
   "source": [
    "write your answer here"
   ]
  },
  {
   "cell_type": "markdown",
   "metadata": {},
   "source": [
    "**4. Find the frequency response of the system using another method. Specifically, take the DTFT of the left-hand-side and right-hand-side of the difference equation, and then use linearity and the time-shifting property of the DTFT along with the fact that $H(\\omega)=\\frac{Y(\\omega)}{X(\\omega)}$**"
   ]
  },
  {
   "cell_type": "markdown",
   "metadata": {},
   "source": [
    "write your answer here"
   ]
  },
  {
   "cell_type": "markdown",
   "metadata": {},
   "source": [
    "**5. Write Python code to compute and plot the magnitude and phase responses, $|H(\\omega)|$ and $\\angle H(\\omega)$, for $-\\pi<\\omega<\\pi$.**"
   ]
  },
  {
   "cell_type": "code",
   "execution_count": 6,
   "metadata": {},
   "outputs": [],
   "source": [
    "# write your code here\n"
   ]
  },
  {
   "cell_type": "markdown",
   "metadata": {},
   "source": [
    "<h3 style=\"color:red;\"><left>Exercise 5.3</left></h3>"
   ]
  },
  {
   "cell_type": "markdown",
   "metadata": {},
   "source": [
    "**1. Insert the printout of your completed block diagram.**"
   ]
  },
  {
   "cell_type": "markdown",
   "metadata": {},
   "source": [
    "insert your diagram here"
   ]
  },
  {
   "cell_type": "markdown",
   "metadata": {},
   "source": [
    "**2. Enter both the amplitude measurements you made and their theoretical values.**"
   ]
  },
  {
   "cell_type": "markdown",
   "metadata": {},
   "source": [
    "| $\\omega$ | Measurements | Theoretical Values |\n",
    "|:--------:|:------------:|:------------------:|\n",
    "| $\\pi/16$ |              |                    |\n",
    "|  $\\pi/8$ |              |                    |\n",
    "|  $\\pi/4$ |              |                    |"
   ]
  },
  {
   "cell_type": "markdown",
   "metadata": {},
   "source": [
    "**3. Plot the impulse response, and the magnitude and phase of the frequency response by using your DTFT function.**"
   ]
  },
  {
   "cell_type": "code",
   "execution_count": 7,
   "metadata": {},
   "outputs": [],
   "source": [
    "# write your code here\n"
   ]
  }
 ],
 "metadata": {
  "kernelspec": {
   "display_name": "Python 3 (ipykernel)",
   "language": "python",
   "name": "python3"
  },
  "language_info": {
   "codemirror_mode": {
    "name": "ipython",
    "version": 3
   },
   "file_extension": ".py",
   "mimetype": "text/x-python",
   "name": "python",
   "nbconvert_exporter": "python",
   "pygments_lexer": "ipython3",
   "version": "3.8.1"
  }
 },
 "nbformat": 4,
 "nbformat_minor": 2
}
